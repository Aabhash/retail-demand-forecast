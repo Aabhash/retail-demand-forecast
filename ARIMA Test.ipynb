{
 "cells": [
  {
   "cell_type": "code",
   "execution_count": 1,
   "metadata": {},
   "outputs": [],
   "source": [
    "import matplotlib.pyplot as plt\n",
    "import numpy as np\n",
    "import pandas as pd\n",
    "from dateutil import parser as dtparser\n",
    "%matplotlib notebook"
   ]
  },
  {
   "cell_type": "code",
   "execution_count": 2,
   "metadata": {},
   "outputs": [
    {
     "data": {
      "text/html": [
       "<div>\n",
       "<style scoped>\n",
       "    .dataframe tbody tr th:only-of-type {\n",
       "        vertical-align: middle;\n",
       "    }\n",
       "\n",
       "    .dataframe tbody tr th {\n",
       "        vertical-align: top;\n",
       "    }\n",
       "\n",
       "    .dataframe thead th {\n",
       "        text-align: right;\n",
       "    }\n",
       "</style>\n",
       "<table border=\"1\" class=\"dataframe\">\n",
       "  <thead>\n",
       "    <tr style=\"text-align: right;\">\n",
       "      <th></th>\n",
       "      <th>Fiscal Season</th>\n",
       "      <th>SeasonDesc</th>\n",
       "      <th>Fiscal Year</th>\n",
       "      <th>Fiscal Week</th>\n",
       "      <th>Dayofweek</th>\n",
       "      <th>Class</th>\n",
       "      <th>ClassDesc</th>\n",
       "      <th>Location</th>\n",
       "      <th>Locdesc</th>\n",
       "      <th>SalesU</th>\n",
       "      <th>SalesD</th>\n",
       "    </tr>\n",
       "    <tr>\n",
       "      <th>Day</th>\n",
       "      <th></th>\n",
       "      <th></th>\n",
       "      <th></th>\n",
       "      <th></th>\n",
       "      <th></th>\n",
       "      <th></th>\n",
       "      <th></th>\n",
       "      <th></th>\n",
       "      <th></th>\n",
       "      <th></th>\n",
       "      <th></th>\n",
       "    </tr>\n",
       "  </thead>\n",
       "  <tbody>\n",
       "    <tr>\n",
       "      <th>2016-01-31</th>\n",
       "      <td>20161</td>\n",
       "      <td>Spring 2016</td>\n",
       "      <td>2016</td>\n",
       "      <td>2016-02-06</td>\n",
       "      <td>Sunday</td>\n",
       "      <td>10</td>\n",
       "      <td>SUNGLASSES</td>\n",
       "      <td>2061</td>\n",
       "      <td>TIMES SQUARE</td>\n",
       "      <td>2</td>\n",
       "      <td>60</td>\n",
       "    </tr>\n",
       "    <tr>\n",
       "      <th>2016-01-31</th>\n",
       "      <td>20161</td>\n",
       "      <td>Spring 2016</td>\n",
       "      <td>2016</td>\n",
       "      <td>2016-02-06</td>\n",
       "      <td>Sunday</td>\n",
       "      <td>15</td>\n",
       "      <td>FASHION ACCESSORIES</td>\n",
       "      <td>2061</td>\n",
       "      <td>TIMES SQUARE</td>\n",
       "      <td>1</td>\n",
       "      <td>18</td>\n",
       "    </tr>\n",
       "    <tr>\n",
       "      <th>2016-01-31</th>\n",
       "      <td>20161</td>\n",
       "      <td>Spring 2016</td>\n",
       "      <td>2016</td>\n",
       "      <td>2016-02-06</td>\n",
       "      <td>Sunday</td>\n",
       "      <td>18</td>\n",
       "      <td>HATS</td>\n",
       "      <td>2061</td>\n",
       "      <td>TIMES SQUARE</td>\n",
       "      <td>1</td>\n",
       "      <td>12</td>\n",
       "    </tr>\n",
       "    <tr>\n",
       "      <th>2016-01-31</th>\n",
       "      <td>20161</td>\n",
       "      <td>Spring 2016</td>\n",
       "      <td>2016</td>\n",
       "      <td>2016-02-06</td>\n",
       "      <td>Sunday</td>\n",
       "      <td>25</td>\n",
       "      <td>FASHION JEWELRY</td>\n",
       "      <td>2061</td>\n",
       "      <td>TIMES SQUARE</td>\n",
       "      <td>-1</td>\n",
       "      <td>-35</td>\n",
       "    </tr>\n",
       "    <tr>\n",
       "      <th>2016-01-31</th>\n",
       "      <td>20161</td>\n",
       "      <td>Spring 2016</td>\n",
       "      <td>2016</td>\n",
       "      <td>2016-02-06</td>\n",
       "      <td>Sunday</td>\n",
       "      <td>26</td>\n",
       "      <td>NECKLACES</td>\n",
       "      <td>2061</td>\n",
       "      <td>TIMES SQUARE</td>\n",
       "      <td>11</td>\n",
       "      <td>231</td>\n",
       "    </tr>\n",
       "  </tbody>\n",
       "</table>\n",
       "</div>"
      ],
      "text/plain": [
       "            Fiscal Season   SeasonDesc  Fiscal Year Fiscal Week Dayofweek  \\\n",
       "Day                                                                         \n",
       "2016-01-31          20161  Spring 2016         2016  2016-02-06    Sunday   \n",
       "2016-01-31          20161  Spring 2016         2016  2016-02-06    Sunday   \n",
       "2016-01-31          20161  Spring 2016         2016  2016-02-06    Sunday   \n",
       "2016-01-31          20161  Spring 2016         2016  2016-02-06    Sunday   \n",
       "2016-01-31          20161  Spring 2016         2016  2016-02-06    Sunday   \n",
       "\n",
       "            Class            ClassDesc  Location       Locdesc  SalesU SalesD  \n",
       "Day                                                                            \n",
       "2016-01-31     10           SUNGLASSES      2061  TIMES SQUARE       2     60  \n",
       "2016-01-31     15  FASHION ACCESSORIES      2061  TIMES SQUARE       1     18  \n",
       "2016-01-31     18                 HATS      2061  TIMES SQUARE       1     12  \n",
       "2016-01-31     25      FASHION JEWELRY      2061  TIMES SQUARE      -1    -35  \n",
       "2016-01-31     26            NECKLACES      2061  TIMES SQUARE      11    231  "
      ]
     },
     "execution_count": 2,
     "metadata": {},
     "output_type": "execute_result"
    }
   ],
   "source": [
    "# Load CSV\n",
    "csv_data = pd.read_csv('SalesData.csv',\n",
    "                       index_col='Day',\n",
    "                       parse_dates=['Day', 'Fiscal Week'],\n",
    "                       date_parser=lambda s: dtparser.parse(s).date())\n",
    "csv_data.head()"
   ]
  },
  {
   "cell_type": "code",
   "execution_count": 3,
   "metadata": {},
   "outputs": [
    {
     "data": {
      "text/plain": [
       "Day\n",
       "2016-01-31     60.0\n",
       "2016-02-01     72.0\n",
       "2016-02-02     90.0\n",
       "2016-02-03     85.0\n",
       "2016-02-04     60.0\n",
       "2016-02-05     90.0\n",
       "2016-02-06     30.0\n",
       "2016-02-07     29.0\n",
       "2016-02-12    120.0\n",
       "2016-02-13    254.0\n",
       "Name: SalesD, dtype: float64"
      ]
     },
     "execution_count": 3,
     "metadata": {},
     "output_type": "execute_result"
    }
   ],
   "source": [
    "# Filter Class=10 Sales Units\n",
    "class10_sales_data = csv_data.query('Class==10').SalesD.astype('float')\n",
    "class10_sales_data.head(10)"
   ]
  },
  {
   "cell_type": "code",
   "execution_count": 4,
   "metadata": {},
   "outputs": [
    {
     "data": {
      "text/plain": [
       "(735,)"
      ]
     },
     "execution_count": 4,
     "metadata": {},
     "output_type": "execute_result"
    }
   ],
   "source": [
    "# Fill in missing values (some dates are missing in the index)\n",
    "start_date = class10_sales_data.index[0].date()\n",
    "end_date = class10_sales_data.index[-1].date()\n",
    "date_range = pd.date_range(start_date, end_date)\n",
    "X = class10_sales_data.reindex(date_range, fill_value=0).values\n",
    "X.shape"
   ]
  },
  {
   "cell_type": "code",
   "execution_count": 5,
   "metadata": {},
   "outputs": [
    {
     "data": {
      "text/plain": [
       "(600, 135)"
      ]
     },
     "execution_count": 5,
     "metadata": {},
     "output_type": "execute_result"
    }
   ],
   "source": [
    "# Divide into train and test\n",
    "train = X[:600]\n",
    "test = X[600:]\n",
    "train.size, test.size"
   ]
  },
  {
   "cell_type": "code",
   "execution_count": 6,
   "metadata": {},
   "outputs": [
    {
     "name": "stdout",
     "output_type": "stream",
     "text": [
      "Forecasting #10\n",
      "Forecasting #20\n",
      "Forecasting #30\n",
      "Forecasting #40\n",
      "Forecasting #50\n",
      "Forecasting #60\n",
      "Forecasting #70\n",
      "Forecasting #80\n",
      "Forecasting #90\n",
      "Forecasting #100\n",
      "Forecasting #110\n",
      "Forecasting #120\n",
      "Forecasting #130\n"
     ]
    }
   ],
   "source": [
    "# Forecast using ARIMA\n",
    "from statsmodels.tsa.arima_model import ARIMA\n",
    "\n",
    "history = list(train)\n",
    "predicted = []\n",
    "for i in range(len(test)):\n",
    "    if (i+1) % 10 == 0:\n",
    "        print(\"Forecasting #{}\".format(i+1))\n",
    "    predicted.append(ARIMA(history, order=(5,1,0)).fit().forecast()[0])\n",
    "    history.append(test[i])"
   ]
  },
  {
   "cell_type": "code",
   "execution_count": 7,
   "metadata": {},
   "outputs": [
    {
     "data": {
      "text/plain": [
       "<matplotlib.legend.Legend at 0x7f63e40d12b0>"
      ]
     },
     "execution_count": 7,
     "metadata": {},
     "output_type": "execute_result"
    },
    {
     "data": {
      "image/png": "[encoded data removed]",
      "text/plain": [
       "<Figure size 432x288 with 1 Axes>"
      ]
     },
     "metadata": {},
     "output_type": "display_data"
    }
   ],
   "source": [
    "# Let's see the predictions compared to actual values\n",
    "plt.plot(test, label='Actual')\n",
    "plt.plot(predicted, label='Predicted')\n",
    "plt.legend()"
   ]
  },
  {
   "cell_type": "code",
   "execution_count": 10,
   "metadata": {},
   "outputs": [
    {
     "name": "stdout",
     "output_type": "stream",
     "text": [
      "MSE = 4576.7771\n"
     ]
    }
   ],
   "source": [
    "# Calculate errors\n",
    "from sklearn.metrics import mean_squared_error\n",
    "\n",
    "mse = mean_squared_error(test, predicted)\n",
    "print(\"MSE = {:.4f}\".format(mse))"
   ]
  },
  {
   "cell_type": "code",
   "execution_count": null,
   "metadata": {},
   "outputs": [],
   "source": []
  }
 ],
 "metadata": {
  "kernelspec": {
   "display_name": "Python 3",
   "language": "python",
   "name": "python3"
  },
  "language_info": {
   "codemirror_mode": {
    "name": "ipython",
    "version": 3
   },
   "file_extension": ".py",
   "mimetype": "text/x-python",
   "name": "python",
   "nbconvert_exporter": "python",
   "pygments_lexer": "ipython3",
   "version": "3.6.5"
  }
 },
 "nbformat": 4,
 "nbformat_minor": 2
}
